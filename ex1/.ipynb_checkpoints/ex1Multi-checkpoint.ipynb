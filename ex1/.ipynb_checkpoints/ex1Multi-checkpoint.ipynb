{
 "cells": [
  {
   "cell_type": "code",
   "execution_count": 303,
   "metadata": {
    "collapsed": true
   },
   "outputs": [],
   "source": [
    "%matplotlib inline\n",
    "from __future__ import division                                                 \n",
    "import matplotlib.pyplot as plt                                                 \n",
    "import numpy as np                                                              \n",
    "import pandas as pd                                                             "
   ]
  },
  {
   "cell_type": "code",
   "execution_count": 418,
   "metadata": {
    "collapsed": false
   },
   "outputs": [],
   "source": [
    "def featureNormalize(X):\n",
    "    X_norm = X\n",
    "    # normalization involves float answers and this array intially is all int\n",
    "    # so we need to make sure that the results are properly cast to be float! \n",
    "    # this is a serious pain in the ass!\n",
    "    X_norm = X_norm.astype(np.float32, copy=False) \n",
    "\n",
    "    mu = np.zeros(X.shape[1])\n",
    "    sigma = np.zeros(X.shape[1])\n",
    "\n",
    "    for i in range(0, X.shape[1]):\n",
    "        mu[i] = X.mean(axis=0)[i]\n",
    "        # numpy uses std with (N) denominator std dev formula; to get the same answer as in octave\n",
    "        sigma[i] = X.std(axis=0, ddof=1)[i]\n",
    "        A = X_norm[:, i][:, None]\n",
    "        # normalize each element in X\n",
    "        ans  = (A - mu[i]) / sigma[i]\n",
    "        X_norm[:, i] = ans[:, 0]\n",
    "    return X_norm, mu, sigma\n",
    "\n",
    "    # adding intercept term\n",
    "    X = np.c_[np.ones(X.shape[0]), X]"
   ]
  },
  {
   "cell_type": "code",
   "execution_count": 419,
   "metadata": {
    "collapsed": true
   },
   "outputs": [],
   "source": [
    "def computeCostMulti(X, y, theta):\n",
    "    J = 1/(2*m) * np.sum(np.square(X.dot(theta) - y))\n",
    "    return J"
   ]
  },
  {
   "cell_type": "code",
   "execution_count": 420,
   "metadata": {
    "collapsed": false
   },
   "outputs": [],
   "source": [
    "def gradientDescentMulti(X, y, theta, alpha, num_iter):\n",
    "    J_history = np.zeros(num_iter)[:, None]\n",
    "    for i in range(0, num_iter):\n",
    "        theta = theta - ((alpha / m) * np.transpose(X).dot((X.dot(theta) - y)))\n",
    "        J_history[i] = computeCostMulti(X, y, theta)\n",
    "    return theta, J_history"
   ]
  },
  {
   "cell_type": "code",
   "execution_count": 424,
   "metadata": {
    "collapsed": false
   },
   "outputs": [
    {
     "name": "stdout",
     "output_type": "stream",
     "text": [
      "Theta computed from gradient descent: \n",
      "[[ 334302.07023381]\n",
      " [ 100087.11015567]\n",
      " [   3673.55098734]]\n",
      "Predicted price of a 1650 sq-ft, 3 br house(gradient descent) \n",
      "289314.628593\n",
      "[[ 89597.90954361]\n",
      " [   139.21067402]\n",
      " [ -8738.01911255]]\n",
      "Predicted price of a 1650 sq-ft, 3 br house(normal eq) \n",
      "293081.464335\n"
     ]
    },
    {
     "data": {
      "image/png": "[encoded data removed]",
      "text/plain": [
       "<matplotlib.figure.Figure at 0x111095e10>"
      ]
     },
     "metadata": {},
     "output_type": "display_data"
    }
   ],
   "source": [
    "# reading data in\n",
    "data = pd.read_csv('ex1data2.txt', sep=\",\", header=None)\n",
    "# naming the columns makes it easier to locate them\n",
    "data.columns = ['x1', 'x2', 'y']\n",
    "\n",
    "# # setting pretty print\n",
    "# np.set_printoptions(precision=5)\n",
    "\n",
    "# convert pandas data frame into numpy array\n",
    "x1 = data.iloc[:, 0].values[:, None]                                                     \n",
    "x2 = data.iloc[:, 1].values[:, None]                                                    \n",
    "y = data.iloc[:, 2].values[:, None]\n",
    "# join x1 and x2 to make one array of X\n",
    "X = np.concatenate((x1, x2), axis=1)\n",
    "m = len(y)\n",
    "# print X\n",
    "# normalizing features\n",
    "X, mu, sigma = featureNormalize(X)\n",
    "# adding intercept term\n",
    "X = np.c_[np.ones(X.shape[0]), X]\n",
    "\n",
    "# alpha = 0.3\n",
    "theta = np.zeros(3)[:, None] \n",
    "theta, J_h1 = gradientDescentMulti(X, y, theta, alpha=0.3, num_iter=400)\n",
    "\n",
    "# alpha = 0.1\n",
    "theta = np.zeros(3)[:, None] \n",
    "theta, J_h2 = gradientDescentMulti(X, y, theta, alpha=0.1, num_iter=400)\n",
    "\n",
    "# alpha = 0.03\n",
    "theta = np.zeros(3)[:, None] \n",
    "theta, J_h3 = gradientDescentMulti(X, y, theta, alpha=0.03, num_iter=400)\n",
    "\n",
    "# alpha = 0.01\n",
    "theta = np.zeros(3)[:, None] \n",
    "theta, J_h4 = gradientDescentMulti(X, y, theta, alpha=0.01, num_iter=400)\n",
    "\n",
    "\n",
    "# plotting convergence graph\n",
    "plt.plot(np.arange(400), J_h1, 'b')\n",
    "plt.plot(np.arange(400), J_h2, 'r')\n",
    "plt.plot(np.arange(400), J_h3, 'k')\n",
    "plt.plot(np.arange(400), J_h4, 'g')\n",
    "\n",
    "print 'Theta computed from gradient descent: '\n",
    "print(theta)\n",
    "\n",
    "print 'Predicted price of a 1650 sq-ft, 3 br house(gradient descent) '\n",
    "o = (1650 - mu[0]) / sigma[0]\n",
    "t = (3 - mu[1]) / sigma[1]\n",
    "price = np.array([1, o, t]).dot(theta)\n",
    "print(price[0])\n",
    "\n",
    "# using normal eq!\n",
    "x1 = data.iloc[:, 0].values[:, None]                                                     \n",
    "x2 = data.iloc[:, 1].values[:, None]                                                    \n",
    "y = data.iloc[:, 2].values[:, None]\n",
    "# join x1 and x2 to make one array of X\n",
    "X = np.concatenate((x1, x2), axis=1)\n",
    "X = np.c_[np.ones(X.shape[0]), X]\n",
    "m = len(y)\n",
    "theta = np.zeros(3)[:, None] \n",
    "theta = np.linalg.pinv(np.transpose(X).dot(X)).dot(np.transpose(X).dot(y))\n",
    "print(theta)\n",
    "print 'Predicted price of a 1650 sq-ft, 3 br house(normal eq) '\n",
    "print(np.array([1, 1650, 3]).dot(theta)[0])"
   ]
  },
  {
   "cell_type": "code",
   "execution_count": null,
   "metadata": {
    "collapsed": false
   },
   "outputs": [],
   "source": []
  },
  {
   "cell_type": "code",
   "execution_count": null,
   "metadata": {
    "collapsed": false
   },
   "outputs": [],
   "source": []
  },
  {
   "cell_type": "code",
   "execution_count": null,
   "metadata": {
    "collapsed": true
   },
   "outputs": [],
   "source": []
  }
 ],
 "metadata": {
  "kernelspec": {
   "display_name": "Python 2",
   "language": "python",
   "name": "python2"
  },
  "language_info": {
   "codemirror_mode": {
    "name": "ipython",
    "version": 2
   },
   "file_extension": ".py",
   "mimetype": "text/x-python",
   "name": "python",
   "nbconvert_exporter": "python",
   "pygments_lexer": "ipython2",
   "version": "2.7.11"
  }
 },
 "nbformat": 4,
 "nbformat_minor": 0
}
