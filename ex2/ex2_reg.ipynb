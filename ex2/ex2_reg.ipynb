{
 "cells": [
  {
   "cell_type": "code",
   "execution_count": 135,
   "metadata": {
    "collapsed": false
   },
   "outputs": [],
   "source": [
    "%matplotlib inline\n",
    "from __future__ import division                                                 \n",
    "import matplotlib.pyplot as plt                                                 \n",
    "import scipy.optimize as op\n",
    "from scipy.optimize import fmin_cg, fmin_bfgs, fmin_ncg, fmin\n",
    "from mpl_toolkits.mplot3d import Axes3D\n",
    "import numpy as np                                                              \n",
    "import pandas as pd "
   ]
  },
  {
   "cell_type": "code",
   "execution_count": 136,
   "metadata": {
    "collapsed": true
   },
   "outputs": [],
   "source": [
    "def plotData(X, y, f):\n",
    "    plt1 = f.add_subplot(111)\n",
    "    pos = np.where(y == 1)[0]\n",
    "    neg = np.where(y == 0)[0]\n",
    "\n",
    "    plt1.scatter(X[pos, 0], X[pos, 1], marker='x', color='r')\n",
    "    plt1.scatter(X[neg, 0], X[neg, 1], marker='o', color='y')\n",
    "    plt.xlabel('Microchip Test 1')\n",
    "    plt.ylabel('Microchip Test 2')\n",
    "    plt.legend(('y=1', 'y=0'), loc='lower left', fontsize=8, ncol=3, bbox_to_anchor=(0, -0.3))"
   ]
  },
  {
   "cell_type": "code",
   "execution_count": 137,
   "metadata": {
    "collapsed": true
   },
   "outputs": [],
   "source": [
    "def sigmoid(z):\n",
    "    g = np.zeros(len(z))\n",
    "    g = 1 / (1 + np.exp(-z))\n",
    "    return g"
   ]
  },
  {
   "cell_type": "code",
   "execution_count": 138,
   "metadata": {
    "collapsed": false
   },
   "outputs": [],
   "source": [
    "def mapFeature(X1, X2):\n",
    "    degree = 6\n",
    "    if not X1.shape:\n",
    "        l = 1\n",
    "    else: \n",
    "        l = X1.shape[0]\n",
    "    out = np.ones((l, 1))\n",
    "    for i in range(1,degree+1):\n",
    "        for j in range(0, i+1):\n",
    "            out = np.hstack((out, (pow(X1, (i-j))*pow(X2, j)).reshape(l, 1)))\n",
    "    return out"
   ]
  },
  {
   "cell_type": "code",
   "execution_count": 139,
   "metadata": {
    "collapsed": false
   },
   "outputs": [],
   "source": [
    "def costFn(theta, X, y, m, lam):\n",
    "    h = sigmoid(X.dot(theta))\n",
    "    theta0 = theta\n",
    "    J = 1.0 / m * np.sum((-(y * np.log(h))) - ((1-y) * np.log(1-h))) + (lam/(2*m) * theta0.T.dot(theta0))\n",
    "    return J#.flatten()\n",
    "    #gg = 1 / m * ((X.T.dot(h-y)) + (lam * theta0))"
   ]
  },
  {
   "cell_type": "code",
   "execution_count": 140,
   "metadata": {
    "collapsed": true
   },
   "outputs": [],
   "source": [
    "def grad(theta, X, y, m, lam):\n",
    "    theta = theta.reshape(X.shape[1], 1)\n",
    "    h = sigmoid(X.dot(theta))\n",
    "#     print 'theta shape'\n",
    "#     print(theta.shape)\n",
    "    theta0 = theta\n",
    "#     print 'h-y shape'\n",
    "#     print((h-y).shape)\n",
    "#     print 'lam * theta0 shape'\n",
    "#     print((lam*theta0).shape)\n",
    "    gg = 1.0 / m * ((X.T.dot(h-y)) + (lam * theta0))\n",
    "    return gg.flatten()"
   ]
  },
  {
   "cell_type": "code",
   "execution_count": 141,
   "metadata": {
    "collapsed": true
   },
   "outputs": [],
   "source": [
    "def plotDecisionBoundary(theta, X, y):\n",
    "    u = np.linspace(-1, 1.5, 50)\n",
    "    v = np.linspace(-1, 1.5, 50)\n",
    "    #uu, vv = np.meshgrid(u, v)\n",
    "    z = np.zeros(shape=(len(u), len(v)))\n",
    "    for i in range(len(u)):\n",
    "        for j in range(len(v)):\n",
    "            z[i, j] = (mapFeature(np.array(u[i]), np.array(v[j]))).dot(np.array(theta))\n",
    "\n",
    "    z = z.T\n",
    "    f = plt.figure()\n",
    "    plt2 = f.add_subplot(111)\n",
    "    plt2.contour(u, v, z)#, vmin=0, vmax=0)\n",
    "    S = np.concatenate((x1, x2), axis=1)\n",
    "    plotData(S, y, f)\n",
    "    plt.show()"
   ]
  },
  {
   "cell_type": "code",
   "execution_count": 142,
   "metadata": {
    "collapsed": true
   },
   "outputs": [],
   "source": [
    "def predict(theta, X, m):\n",
    "    p = np.zeros(m).reshape(m ,1)\n",
    "    p = sigmoid(X.dot(theta)) >= 0.5\n",
    "    p = p.astype(int)\n",
    "    return p"
   ]
  },
  {
   "cell_type": "code",
   "execution_count": 143,
   "metadata": {
    "collapsed": false,
    "scrolled": false
   },
   "outputs": [
    {
     "name": "stdout",
     "output_type": "stream",
     "text": [
      "\n",
      "Plotting data\n"
     ]
    },
    {
     "data": {
      "image/png": "[encoded data removed]",
      "text/plain": [
       "<matplotlib.figure.Figure at 0x11204abd0>"
      ]
     },
     "metadata": {},
     "output_type": "display_data"
    },
    {
     "name": "stdout",
     "output_type": "stream",
     "text": [
      "(118, 28)\n",
      "(118, 1)\n",
      "Cost at initial theta (zeros): [ 0.69314718]\n",
      "grad: \n",
      "0.008475\n",
      "0.018788\n",
      "0.000078\n",
      "0.050345\n",
      "0.011501\n",
      "0.037665\n",
      "0.018356\n",
      "0.007324\n",
      "0.008192\n",
      "0.023476\n",
      "0.039349\n",
      "0.002239\n",
      "0.012860\n",
      "0.003096\n",
      "0.039303\n",
      "0.019971\n",
      "0.004330\n",
      "0.003386\n",
      "0.005838\n",
      "0.004476\n",
      "0.031008\n",
      "0.031031\n",
      "0.001097\n",
      "0.006316\n",
      "0.000409\n",
      "0.007265\n",
      "0.001376\n",
      "0.038794\n",
      "Optimization terminated successfully.\n",
      "         Current function value: 0.535160\n",
      "         Iterations: 20\n",
      "         Function evaluations: 1770\n",
      "         Gradient evaluations: 59\n"
     ]
    },
    {
     "data": {
      "image/png": "[encoded data removed]",
      "text/plain": [
       "<matplotlib.figure.Figure at 0x112ac0ed0>"
      ]
     },
     "metadata": {},
     "output_type": "display_data"
    },
    {
     "name": "stdout",
     "output_type": "stream",
     "text": [
      "Training accuracy:  49.8850904912\n"
     ]
    }
   ],
   "source": [
    "# ============================================== Plot data ==============================================  #\n",
    "data = pd.read_csv('ex2data2.txt', sep=\",\", header=None)                        \n",
    "data.columns = ['x1', 'x2', 'y']                                                       \n",
    "x1 = data.iloc[:, 0].values[:, None]                                                     \n",
    "x2 = data.iloc[:, 1].values[:, None]                                                    \n",
    "y = data.iloc[:, 2].values[:, None]\n",
    "\n",
    "# join x1 and x2 to make one array of X\n",
    "X = np.concatenate((x1, x2), axis=1)\n",
    "\n",
    "m, n = X.shape\n",
    "\n",
    "print '\\nPlotting data'\n",
    "plotData(X, y, plt.figure())\n",
    "plt.show()\n",
    "\n",
    "# ========================================= Regularized Logistic Regression ================================ #\n",
    "X1 = X[:, 0]\n",
    "X2 = X[:, 1]\n",
    "\n",
    "X = mapFeature(X1, X2)\n",
    "print(X.shape)\n",
    "print(y.shape)\n",
    "initial_theta = np.zeros(X.shape[1]).reshape(X.shape[1], 1)\n",
    "# print 'initial_theta shape'\n",
    "# print(initial_theta.shape)\n",
    "lam = 1\n",
    "J = costFn(initial_theta, X, y, m, lam)\n",
    "G = grad(initial_theta, X, y, m, lam)\n",
    "print 'Cost at initial theta (zeros):', J[0]\n",
    "print 'grad: '\n",
    "print '\\n'.join('%f' % val for val in G)\n",
    "\n",
    "# plotDecisionBoundary(G, X, y)\n",
    "\n",
    "# plt.hold(True)\n",
    "y1 = y.flatten()\n",
    "Result = op.minimize(fun = costFn, \n",
    "                    x0 = initial_theta, \n",
    "                    args = (X, y1, m, lam),\n",
    "                    method = 'CG',\n",
    "                    options={'disp': True})#,\n",
    "                    # jac=grad)\n",
    "# print(Result)\n",
    "theta = Result.x\n",
    "# print(theta)\n",
    "# theta = theta.reshape(3, 1)\n",
    "plotDecisionBoundary(theta, X, y)\n",
    "# print Result.fun\n",
    "\n",
    "# xopt = fmin_ncg(costFn, fprime=grad, x0=initial_theta, args=(X, y, m, lam), maxiter=400, disp=True, full_output=True )\n",
    "# xopt = fmin_ncg(costFn, fprime=grad, x0=initial_theta, args=(X, y, m, lam), maxiter=400, disp=True, full_output=True )\n",
    "\n",
    "# prob = sigmoid(np.array([1, 45, 85]).dot(theta))\n",
    "# print 'For a student with scores 45 and 85, we predict an admission probability of %f' % prob\n",
    "# X = mapFeature(X1, X2)\n",
    "p = predict(theta, X, m)\n",
    "\n",
    "print 'Training accuracy: ', np.mean((p == y))*100"
   ]
  },
  {
   "cell_type": "code",
   "execution_count": 99,
   "metadata": {
    "collapsed": false
   },
   "outputs": [],
   "source": [
    "# fig = plt.figure()\n",
    "# x = np.linspace(-10, 10, 100)\n",
    "# y = np.linspace(-5, 5, 100)\n",
    "# X, Y = np.meshgrid(x, y)\n",
    "# a = np.exp(-((X - 0) ** 2 + 3*(Y - 0) ** 2) / 4)\n",
    "# c = plt.contour(x, y, a)\n",
    "# plt.xlim(-10, 10)\n",
    "# plt.ylim(-2, 2)\n",
    "# plt.show()"
   ]
  },
  {
   "cell_type": "code",
   "execution_count": null,
   "metadata": {
    "collapsed": false
   },
   "outputs": [],
   "source": []
  },
  {
   "cell_type": "code",
   "execution_count": null,
   "metadata": {
    "collapsed": true
   },
   "outputs": [],
   "source": []
  }
 ],
 "metadata": {
  "kernelspec": {
   "display_name": "Python 2",
   "language": "python",
   "name": "python2"
  },
  "language_info": {
   "codemirror_mode": {
    "name": "ipython",
    "version": 2
   },
   "file_extension": ".py",
   "mimetype": "text/x-python",
   "name": "python",
   "nbconvert_exporter": "python",
   "pygments_lexer": "ipython2",
   "version": "2.7.11"
  }
 },
 "nbformat": 4,
 "nbformat_minor": 0
}
